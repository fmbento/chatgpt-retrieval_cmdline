{
  "nbformat": 4,
  "nbformat_minor": 0,
  "metadata": {
    "colab": {
      "provenance": [],
      "authorship_tag": "ABX9TyNsZnY7y8Nb/1dmGdJKGAlX",
      "include_colab_link": true
    },
    "kernelspec": {
      "name": "python3",
      "display_name": "Python 3"
    },
    "language_info": {
      "name": "python"
    }
  },
  "cells": [
    {
      "cell_type": "markdown",
      "metadata": {
        "id": "view-in-github",
        "colab_type": "text"
      },
      "source": [
        "<a href=\"https://colab.research.google.com/github/fmbento/chatgpt-retrieval_cmdline/blob/main/chatgpt_own_data.ipynb\" target=\"_parent\"><img src=\"https://colab.research.google.com/assets/colab-badge.svg\" alt=\"Open In Colab\"/></a>"
      ]
    },
    {
      "cell_type": "code",
      "execution_count": null,
      "metadata": {
        "id": "5vBClfP8dSjg"
      },
      "outputs": [],
      "source": [
        "!pip install langchain\n",
        "!pip install openai\n",
        "!pip install chromadb\n",
        "!pip install tiktoken\n",
        "\n",
        "\n",
        "import os\n",
        "import sys\n",
        "\n",
        "import openai\n",
        "from langchain.chains import RetrievalQA\n",
        "from langchain.chat_models import ChatOpenAI\n",
        "from langchain.document_loaders import DirectoryLoader, TextLoader\n",
        "from langchain.embeddings import OpenAIEmbeddings\n",
        "from langchain.indexes import VectorstoreIndexCreator\n",
        "from langchain.llms import OpenAI\n",
        "from langchain.vectorstores import Chroma\n",
        "\n",
        "import constants\n",
        "\n",
        "os.environ[\"OPENAI_API_KEY\"] = constants.APIKEY\n",
        "\n",
        "# Enable to cache & reuse the model to disk (for repeated queries on the same data)\n",
        "PERSIST = False\n",
        "\n",
        "query = sys.argv[1]\n",
        "\n",
        "if PERSIST and os.path.exists(\"persist\"):\n",
        "  print(\"Reusing index...\\n\")\n",
        "  vectorstore = Chroma(persist_directory=\"persist\", embedding_function=OpenAIEmbeddings())\n",
        "  from langchain.indexes.vectorstore import VectorStoreIndexWrapper\n",
        "  index = VectorStoreIndexWrapper(vectorstore=vectorstore)\n",
        "else:\n",
        "  loader = TextLoader('data.txt')\n",
        "  #loader = DirectoryLoader(\".\", glob=\"*.txt\")\n",
        "  if PERSIST:\n",
        "    index = VectorstoreIndexCreator(vectorstore_kwargs={\"persist_directory\":\"persist\"}).from_loaders([loader])\n",
        "  else:\n",
        "    index = VectorstoreIndexCreator().from_loaders([loader])\n",
        "\n",
        "chain = RetrievalQA.from_chain_type(\n",
        "  llm=ChatOpenAI(model=\"gpt-3.5-turbo\"),\n",
        "  retriever=index.vectorstore.as_retriever(search_kwargs={\"k\": 1}),\n",
        ")\n",
        "print(chain.run(query))"
      ]
    },
    {
      "cell_type": "code",
      "source": [],
      "metadata": {
        "id": "BZ8Bg8zqdYyz"
      },
      "execution_count": null,
      "outputs": []
    }
  ]
}